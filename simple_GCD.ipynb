{
 "cells": [
  {
   "cell_type": "code",
   "execution_count": 1,
   "id": "5e96d3c1-22f1-4a76-a238-72795d4b9ac4",
   "metadata": {},
   "outputs": [
    {
     "name": "stdout",
     "output_type": "stream",
     "text": [
      "GCD is 7\n"
     ]
    }
   ],
   "source": [
    "#normal code for computing GCD\n",
    "def Simple_gcd(m,n):\n",
    "    fm=[]\n",
    "    for i in range(1,m+1):\n",
    "        if m%i==0:\n",
    "            fm.append(i)\n",
    "\n",
    "    fn=[]\n",
    "    for j in range(1,n+1):\n",
    "        if n%j==0:\n",
    "            fn.append(j)\n",
    "\n",
    "    cf=[]\n",
    "    for a in fm:\n",
    "        if a in fn:\n",
    "            cf.append(a)\n",
    "    return(cf[-1])\n",
    "\n",
    "print('GCD is',Simple_gcd(14,63))"
   ]
  },
  {
   "cell_type": "code",
   "execution_count": 9,
   "id": "04f3106d-b816-4054-b99b-b794ba9589a9",
   "metadata": {},
   "outputs": [
    {
     "data": {
      "text/plain": [
       "7"
      ]
     },
     "execution_count": 9,
     "metadata": {},
     "output_type": "execute_result"
    }
   ],
   "source": [
    "#reduce the time complexity \n",
    "def gcd(m,n):\n",
    "    cf=[]\n",
    "    for i in range(1,min(m,n)+1):\n",
    "        if(m%i)==0 and (n%i)==0:\n",
    "            cf.append(i)\n",
    "    return(cf[-1])\n",
    "gcd(14,63)\n",
    "\n"
   ]
  },
  {
   "cell_type": "code",
   "execution_count": 17,
   "id": "f7da0aab-62f2-4049-9520-0eb5a7d8c986",
   "metadata": {},
   "outputs": [
    {
     "data": {
      "text/plain": [
       "7"
      ]
     },
     "execution_count": 17,
     "metadata": {},
     "output_type": "execute_result"
    }
   ],
   "source": [
    "#reduced more\n",
    "def GCD(m,n):\n",
    "    for i in range(min(m,n),1,-1):\n",
    "        if(m%i)==0 and (n%i)==0:\n",
    "            mrcf=i\n",
    "            break \n",
    "    return mrcf\n",
    "GCD(14,63)\n",
    "    "
   ]
  },
  {
   "cell_type": "code",
   "execution_count": 19,
   "id": "974b4842-6ef9-47cc-949b-261f8836d8fd",
   "metadata": {},
   "outputs": [
    {
     "data": {
      "text/plain": [
       "7"
      ]
     },
     "execution_count": 19,
     "metadata": {},
     "output_type": "execute_result"
    }
   ],
   "source": [
    "def Gcd(m,n):\n",
    "    i=min(m,n)\n",
    "    while i>0:\n",
    "        if(m%i)==0 and (n%i)==0:\n",
    "            return(i)\n",
    "        else:\n",
    "            i=i-1\n",
    "Gcd(14,63)"
   ]
  },
  {
   "cell_type": "code",
   "execution_count": null,
   "id": "d261f04b-4ab1-4f60-832f-b6f547a43e56",
   "metadata": {},
   "outputs": [],
   "source": []
  }
 ],
 "metadata": {
  "kernelspec": {
   "display_name": "Python 3 (ipykernel)",
   "language": "python",
   "name": "python3"
  },
  "language_info": {
   "codemirror_mode": {
    "name": "ipython",
    "version": 3
   },
   "file_extension": ".py",
   "mimetype": "text/x-python",
   "name": "python",
   "nbconvert_exporter": "python",
   "pygments_lexer": "ipython3",
   "version": "3.12.4"
  }
 },
 "nbformat": 4,
 "nbformat_minor": 5
}
